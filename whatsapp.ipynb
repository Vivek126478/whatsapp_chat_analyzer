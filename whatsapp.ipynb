{
 "cells": [
  {
   "cell_type": "code",
   "execution_count": 1,
   "id": "e287712a",
   "metadata": {},
   "outputs": [],
   "source": [
    "import re\n",
    "import pandas as pd"
   ]
  },
  {
   "cell_type": "code",
   "execution_count": 2,
   "id": "74d3d75e",
   "metadata": {},
   "outputs": [],
   "source": [
    "file = open(\"Whatsapp Chat with Siva Krishna.txt\",\"r\",encoding = \"utf-8\")"
   ]
  },
  {
   "cell_type": "code",
   "execution_count": 3,
   "id": "686f65c4",
   "metadata": {},
   "outputs": [],
   "source": [
    "file_data = file.read()"
   ]
  },
  {
   "cell_type": "code",
   "execution_count": 4,
   "id": "a46ef4cb",
   "metadata": {},
   "outputs": [
    {
     "name": "stdout",
     "output_type": "stream",
     "text": [
      "<class 'str'>\n"
     ]
    }
   ],
   "source": [
    "print(type(file_data))"
   ]
  },
  {
   "cell_type": "code",
   "execution_count": 5,
   "id": "d0fdc413",
   "metadata": {},
   "outputs": [],
   "source": [
    "pattern = r'(\\d{1,2}/\\d{1,2}/\\d{2,4},\\s\\d{1,2}:\\d{2}\\s[APMapm]{2})\\s-\\s([^:]+):\\s(.*?)(?=\\n\\d{1,2}/\\d{1,2}/\\d{2,4},\\s\\d{1,2}:\\d{2}\\s[APMapm]{2}\\s-|\\Z)'"
   ]
  },
  {
   "cell_type": "code",
   "execution_count": 6,
   "id": "5d3de45c",
   "metadata": {},
   "outputs": [],
   "source": [
    "chat_data = re.findall(pattern, file_data, re.DOTALL)"
   ]
  },
  {
   "cell_type": "code",
   "execution_count": 7,
   "id": "cacd24b4",
   "metadata": {},
   "outputs": [],
   "source": [
    "dates = [entry[0] for entry in chat_data]\n",
    "senders = [entry[1] for entry in chat_data]\n",
    "messages = [entry[2] for entry in chat_data]"
   ]
  },
  {
   "cell_type": "code",
   "execution_count": 8,
   "id": "b856fff1",
   "metadata": {},
   "outputs": [
    {
     "name": "stdout",
     "output_type": "stream",
     "text": [
      "['12/22/23, 3:06\\u202fPM', '12/22/23, 3:07\\u202fPM', '12/22/23, 3:13\\u202fPM', '12/25/23, 9:22\\u202fAM', '12/25/23, 9:23\\u202fAM']\n"
     ]
    }
   ],
   "source": [
    "print(dates[:5])"
   ]
  },
  {
   "cell_type": "code",
   "execution_count": 9,
   "id": "2bab87e0",
   "metadata": {},
   "outputs": [
    {
     "data": {
      "text/html": [
       "<div>\n",
       "<style scoped>\n",
       "    .dataframe tbody tr th:only-of-type {\n",
       "        vertical-align: middle;\n",
       "    }\n",
       "\n",
       "    .dataframe tbody tr th {\n",
       "        vertical-align: top;\n",
       "    }\n",
       "\n",
       "    .dataframe thead th {\n",
       "        text-align: right;\n",
       "    }\n",
       "</style>\n",
       "<table border=\"1\" class=\"dataframe\">\n",
       "  <thead>\n",
       "    <tr style=\"text-align: right;\">\n",
       "      <th></th>\n",
       "      <th>user_message</th>\n",
       "      <th>date</th>\n",
       "    </tr>\n",
       "  </thead>\n",
       "  <tbody>\n",
       "    <tr>\n",
       "      <th>0</th>\n",
       "      <td>Super vundhi kadha ra</td>\n",
       "      <td>2023-12-22 15:06:00</td>\n",
       "    </tr>\n",
       "    <tr>\n",
       "      <th>1</th>\n",
       "      <td>Movie</td>\n",
       "      <td>2023-12-22 15:07:00</td>\n",
       "    </tr>\n",
       "    <tr>\n",
       "      <th>2</th>\n",
       "      <td>Haa</td>\n",
       "      <td>2023-12-22 15:13:00</td>\n",
       "    </tr>\n",
       "    <tr>\n",
       "      <th>3</th>\n",
       "      <td>null</td>\n",
       "      <td>2023-12-25 09:22:00</td>\n",
       "    </tr>\n",
       "    <tr>\n",
       "      <th>4</th>\n",
       "      <td>Orey nee photo em dachukonu le ra</td>\n",
       "      <td>2023-12-25 09:23:00</td>\n",
       "    </tr>\n",
       "  </tbody>\n",
       "</table>\n",
       "</div>"
      ],
      "text/plain": [
       "                        user_message                date\n",
       "0              Super vundhi kadha ra 2023-12-22 15:06:00\n",
       "1                              Movie 2023-12-22 15:07:00\n",
       "2                                Haa 2023-12-22 15:13:00\n",
       "3                               null 2023-12-25 09:22:00\n",
       "4  Orey nee photo em dachukonu le ra 2023-12-25 09:23:00"
      ]
     },
     "execution_count": 9,
     "metadata": {},
     "output_type": "execute_result"
    }
   ],
   "source": [
    "df = pd.DataFrame({\"user_message\": messages, \"message_date\": dates})\n",
    "df['message_date'] = pd.to_datetime(df['message_date'], format='%m/%d/%y, %I:%M %p')\n",
    "\n",
    "df.rename(columns={\"message_date\": \"date\"}, inplace=True)\n",
    "df.head()"
   ]
  },
  {
   "cell_type": "code",
   "execution_count": 10,
   "id": "b331be64",
   "metadata": {},
   "outputs": [
    {
     "data": {
      "text/plain": [
       "(5651, 2)"
      ]
     },
     "execution_count": 10,
     "metadata": {},
     "output_type": "execute_result"
    }
   ],
   "source": [
    "df.shape"
   ]
  },
  {
   "cell_type": "code",
   "execution_count": 11,
   "id": "3391f6b1",
   "metadata": {},
   "outputs": [
    {
     "data": {
      "text/html": [
       "<div>\n",
       "<style scoped>\n",
       "    .dataframe tbody tr th:only-of-type {\n",
       "        vertical-align: middle;\n",
       "    }\n",
       "\n",
       "    .dataframe tbody tr th {\n",
       "        vertical-align: top;\n",
       "    }\n",
       "\n",
       "    .dataframe thead th {\n",
       "        text-align: right;\n",
       "    }\n",
       "</style>\n",
       "<table border=\"1\" class=\"dataframe\">\n",
       "  <thead>\n",
       "    <tr style=\"text-align: right;\">\n",
       "      <th></th>\n",
       "      <th>date</th>\n",
       "      <th>user</th>\n",
       "      <th>message</th>\n",
       "    </tr>\n",
       "  </thead>\n",
       "  <tbody>\n",
       "    <tr>\n",
       "      <th>0</th>\n",
       "      <td>2023-12-22 15:06:00</td>\n",
       "      <td>Group Notification</td>\n",
       "      <td>Super vundhi kadha ra</td>\n",
       "    </tr>\n",
       "    <tr>\n",
       "      <th>1</th>\n",
       "      <td>2023-12-22 15:07:00</td>\n",
       "      <td>Group Notification</td>\n",
       "      <td>Movie</td>\n",
       "    </tr>\n",
       "    <tr>\n",
       "      <th>2</th>\n",
       "      <td>2023-12-22 15:13:00</td>\n",
       "      <td>Group Notification</td>\n",
       "      <td>Haa</td>\n",
       "    </tr>\n",
       "    <tr>\n",
       "      <th>3</th>\n",
       "      <td>2023-12-25 09:22:00</td>\n",
       "      <td>Group Notification</td>\n",
       "      <td>null</td>\n",
       "    </tr>\n",
       "    <tr>\n",
       "      <th>4</th>\n",
       "      <td>2023-12-25 09:23:00</td>\n",
       "      <td>Group Notification</td>\n",
       "      <td>Orey nee photo em dachukonu le ra</td>\n",
       "    </tr>\n",
       "  </tbody>\n",
       "</table>\n",
       "</div>"
      ],
      "text/plain": [
       "                 date                user                            message\n",
       "0 2023-12-22 15:06:00  Group Notification              Super vundhi kadha ra\n",
       "1 2023-12-22 15:07:00  Group Notification                              Movie\n",
       "2 2023-12-22 15:13:00  Group Notification                                Haa\n",
       "3 2023-12-25 09:22:00  Group Notification                               null\n",
       "4 2023-12-25 09:23:00  Group Notification  Orey nee photo em dachukonu le ra"
      ]
     },
     "execution_count": 11,
     "metadata": {},
     "output_type": "execute_result"
    }
   ],
   "source": [
    "users = []\n",
    "msgs = []\n",
    "\n",
    "for m in df[\"user_message\"]:\n",
    "    entry = re.split(r'^([^:]+):\\s', m, maxsplit=1)\n",
    "    if len(entry) > 2:\n",
    "        users.append(entry[1])\n",
    "        msgs.append(entry[2])\n",
    "    else:\n",
    "        users.append(\"Group Notification\")\n",
    "        msgs.append(entry[0])\n",
    "\n",
    "df[\"user\"] = users\n",
    "df[\"message\"] = msgs\n",
    "df.drop(columns=[\"user_message\"], inplace=True)\n",
    "df.head()"
   ]
  },
  {
   "cell_type": "code",
   "execution_count": 12,
   "id": "2b8b7986",
   "metadata": {},
   "outputs": [],
   "source": [
    "df[\"year\"] = df[\"date\"].dt.year"
   ]
  },
  {
   "cell_type": "code",
   "execution_count": 13,
   "id": "0acea3f3",
   "metadata": {},
   "outputs": [
    {
     "data": {
      "text/html": [
       "<div>\n",
       "<style scoped>\n",
       "    .dataframe tbody tr th:only-of-type {\n",
       "        vertical-align: middle;\n",
       "    }\n",
       "\n",
       "    .dataframe tbody tr th {\n",
       "        vertical-align: top;\n",
       "    }\n",
       "\n",
       "    .dataframe thead th {\n",
       "        text-align: right;\n",
       "    }\n",
       "</style>\n",
       "<table border=\"1\" class=\"dataframe\">\n",
       "  <thead>\n",
       "    <tr style=\"text-align: right;\">\n",
       "      <th></th>\n",
       "      <th>date</th>\n",
       "      <th>user</th>\n",
       "      <th>message</th>\n",
       "      <th>year</th>\n",
       "    </tr>\n",
       "  </thead>\n",
       "  <tbody>\n",
       "    <tr>\n",
       "      <th>0</th>\n",
       "      <td>2023-12-22 15:06:00</td>\n",
       "      <td>Group Notification</td>\n",
       "      <td>Super vundhi kadha ra</td>\n",
       "      <td>2023</td>\n",
       "    </tr>\n",
       "    <tr>\n",
       "      <th>1</th>\n",
       "      <td>2023-12-22 15:07:00</td>\n",
       "      <td>Group Notification</td>\n",
       "      <td>Movie</td>\n",
       "      <td>2023</td>\n",
       "    </tr>\n",
       "    <tr>\n",
       "      <th>2</th>\n",
       "      <td>2023-12-22 15:13:00</td>\n",
       "      <td>Group Notification</td>\n",
       "      <td>Haa</td>\n",
       "      <td>2023</td>\n",
       "    </tr>\n",
       "    <tr>\n",
       "      <th>3</th>\n",
       "      <td>2023-12-25 09:22:00</td>\n",
       "      <td>Group Notification</td>\n",
       "      <td>null</td>\n",
       "      <td>2023</td>\n",
       "    </tr>\n",
       "    <tr>\n",
       "      <th>4</th>\n",
       "      <td>2023-12-25 09:23:00</td>\n",
       "      <td>Group Notification</td>\n",
       "      <td>Orey nee photo em dachukonu le ra</td>\n",
       "      <td>2023</td>\n",
       "    </tr>\n",
       "  </tbody>\n",
       "</table>\n",
       "</div>"
      ],
      "text/plain": [
       "                 date                user                            message  \\\n",
       "0 2023-12-22 15:06:00  Group Notification              Super vundhi kadha ra   \n",
       "1 2023-12-22 15:07:00  Group Notification                              Movie   \n",
       "2 2023-12-22 15:13:00  Group Notification                                Haa   \n",
       "3 2023-12-25 09:22:00  Group Notification                               null   \n",
       "4 2023-12-25 09:23:00  Group Notification  Orey nee photo em dachukonu le ra   \n",
       "\n",
       "   year  \n",
       "0  2023  \n",
       "1  2023  \n",
       "2  2023  \n",
       "3  2023  \n",
       "4  2023  "
      ]
     },
     "execution_count": 13,
     "metadata": {},
     "output_type": "execute_result"
    }
   ],
   "source": [
    "df.head()"
   ]
  },
  {
   "cell_type": "code",
   "execution_count": 14,
   "id": "de1b3fc4",
   "metadata": {},
   "outputs": [],
   "source": [
    "df[\"month\"] = df[\"date\"].dt.month_name()"
   ]
  },
  {
   "cell_type": "code",
   "execution_count": 15,
   "id": "595cb219",
   "metadata": {},
   "outputs": [],
   "source": [
    "df[\"day\"] = df['date'].dt.day"
   ]
  },
  {
   "cell_type": "code",
   "execution_count": 16,
   "id": "0aaa70b7",
   "metadata": {},
   "outputs": [],
   "source": [
    "df[\"hour\"] = df[\"date\"].dt.hour"
   ]
  },
  {
   "cell_type": "code",
   "execution_count": 17,
   "id": "16404f41",
   "metadata": {},
   "outputs": [],
   "source": [
    "df[\"minute\"] = df[\"date\"].dt.minute"
   ]
  },
  {
   "cell_type": "code",
   "execution_count": 18,
   "id": "c15bd65f",
   "metadata": {},
   "outputs": [
    {
     "data": {
      "text/html": [
       "<div>\n",
       "<style scoped>\n",
       "    .dataframe tbody tr th:only-of-type {\n",
       "        vertical-align: middle;\n",
       "    }\n",
       "\n",
       "    .dataframe tbody tr th {\n",
       "        vertical-align: top;\n",
       "    }\n",
       "\n",
       "    .dataframe thead th {\n",
       "        text-align: right;\n",
       "    }\n",
       "</style>\n",
       "<table border=\"1\" class=\"dataframe\">\n",
       "  <thead>\n",
       "    <tr style=\"text-align: right;\">\n",
       "      <th></th>\n",
       "      <th>date</th>\n",
       "      <th>user</th>\n",
       "      <th>message</th>\n",
       "      <th>year</th>\n",
       "      <th>month</th>\n",
       "      <th>day</th>\n",
       "      <th>hour</th>\n",
       "      <th>minute</th>\n",
       "    </tr>\n",
       "  </thead>\n",
       "  <tbody>\n",
       "    <tr>\n",
       "      <th>0</th>\n",
       "      <td>2023-12-22 15:06:00</td>\n",
       "      <td>Group Notification</td>\n",
       "      <td>Super vundhi kadha ra</td>\n",
       "      <td>2023</td>\n",
       "      <td>December</td>\n",
       "      <td>22</td>\n",
       "      <td>15</td>\n",
       "      <td>6</td>\n",
       "    </tr>\n",
       "    <tr>\n",
       "      <th>1</th>\n",
       "      <td>2023-12-22 15:07:00</td>\n",
       "      <td>Group Notification</td>\n",
       "      <td>Movie</td>\n",
       "      <td>2023</td>\n",
       "      <td>December</td>\n",
       "      <td>22</td>\n",
       "      <td>15</td>\n",
       "      <td>7</td>\n",
       "    </tr>\n",
       "    <tr>\n",
       "      <th>2</th>\n",
       "      <td>2023-12-22 15:13:00</td>\n",
       "      <td>Group Notification</td>\n",
       "      <td>Haa</td>\n",
       "      <td>2023</td>\n",
       "      <td>December</td>\n",
       "      <td>22</td>\n",
       "      <td>15</td>\n",
       "      <td>13</td>\n",
       "    </tr>\n",
       "    <tr>\n",
       "      <th>3</th>\n",
       "      <td>2023-12-25 09:22:00</td>\n",
       "      <td>Group Notification</td>\n",
       "      <td>null</td>\n",
       "      <td>2023</td>\n",
       "      <td>December</td>\n",
       "      <td>25</td>\n",
       "      <td>9</td>\n",
       "      <td>22</td>\n",
       "    </tr>\n",
       "    <tr>\n",
       "      <th>4</th>\n",
       "      <td>2023-12-25 09:23:00</td>\n",
       "      <td>Group Notification</td>\n",
       "      <td>Orey nee photo em dachukonu le ra</td>\n",
       "      <td>2023</td>\n",
       "      <td>December</td>\n",
       "      <td>25</td>\n",
       "      <td>9</td>\n",
       "      <td>23</td>\n",
       "    </tr>\n",
       "  </tbody>\n",
       "</table>\n",
       "</div>"
      ],
      "text/plain": [
       "                 date                user                            message  \\\n",
       "0 2023-12-22 15:06:00  Group Notification              Super vundhi kadha ra   \n",
       "1 2023-12-22 15:07:00  Group Notification                              Movie   \n",
       "2 2023-12-22 15:13:00  Group Notification                                Haa   \n",
       "3 2023-12-25 09:22:00  Group Notification                               null   \n",
       "4 2023-12-25 09:23:00  Group Notification  Orey nee photo em dachukonu le ra   \n",
       "\n",
       "   year     month  day  hour  minute  \n",
       "0  2023  December   22    15       6  \n",
       "1  2023  December   22    15       7  \n",
       "2  2023  December   22    15      13  \n",
       "3  2023  December   25     9      22  \n",
       "4  2023  December   25     9      23  "
      ]
     },
     "execution_count": 18,
     "metadata": {},
     "output_type": "execute_result"
    }
   ],
   "source": [
    "df.head()"
   ]
  },
  {
   "cell_type": "code",
   "execution_count": null,
   "id": "a9f32d6d",
   "metadata": {},
   "outputs": [],
   "source": []
  }
 ],
 "metadata": {
  "kernelspec": {
   "display_name": "Python 3",
   "language": "python",
   "name": "python3"
  },
  "language_info": {
   "codemirror_mode": {
    "name": "ipython",
    "version": 3
   },
   "file_extension": ".py",
   "mimetype": "text/x-python",
   "name": "python",
   "nbconvert_exporter": "python",
   "pygments_lexer": "ipython3",
   "version": "3.12.10"
  }
 },
 "nbformat": 4,
 "nbformat_minor": 5
}
